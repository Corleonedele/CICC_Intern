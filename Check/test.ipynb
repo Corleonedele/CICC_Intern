{
 "cells": [
  {
   "cell_type": "code",
   "execution_count": 5,
   "metadata": {},
   "outputs": [],
   "source": [
    "\n",
    "from method import Method\n",
    "import openpyxl\n"
   ]
  },
  {
   "cell_type": "code",
   "execution_count": 6,
   "metadata": {},
   "outputs": [],
   "source": [
    "wb = openpyxl.load_workbook(\"./日报表_copy.xlsx\")\n",
    "风险控制指标情况_流水 = wb[\"风险控制指标情况_流水\"]\n",
    "私募种子基金持仓日报表_流水 = wb[\"私募种子基金持仓日报表_流水\"]\n",
    "风险控制指标情况_标准 =wb[\"风险控制指标情况_标准\"]\n",
    "私募种子基金持仓日报表_标准 = wb[\"私募种子基金持仓日报表_标准\"]"
   ]
  },
  {
   "cell_type": "code",
   "execution_count": 8,
   "metadata": {},
   "outputs": [],
   "source": [
    "kwargs = [1, 10, 1, 5, 0, 0]\n",
    "start_row, end_row, start_col, end_col, row_offset, col_offset = kwargs\n"
   ]
  }
 ],
 "metadata": {
  "kernelspec": {
   "display_name": "Python 3",
   "language": "python",
   "name": "python3"
  },
  "language_info": {
   "codemirror_mode": {
    "name": "ipython",
    "version": 3
   },
   "file_extension": ".py",
   "mimetype": "text/x-python",
   "name": "python",
   "nbconvert_exporter": "python",
   "pygments_lexer": "ipython3",
   "version": "3.9.7 (v3.9.7:1016ef3790, Aug 30 2021, 16:39:15) \n[Clang 6.0 (clang-600.0.57)]"
  },
  "orig_nbformat": 4,
  "vscode": {
   "interpreter": {
    "hash": "aee8b7b246df8f9039afb4144a1f6fd8d2ca17a180786b69acc140d282b71a49"
   }
  }
 },
 "nbformat": 4,
 "nbformat_minor": 2
}
