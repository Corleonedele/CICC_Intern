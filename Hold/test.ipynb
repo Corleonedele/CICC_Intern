{
 "cells": [
  {
   "cell_type": "code",
   "execution_count": 1,
   "metadata": {},
   "outputs": [],
   "source": [
    "from method import *\n",
    "from public import *\n",
    "\n"
   ]
  },
  {
   "cell_type": "code",
   "execution_count": 2,
   "metadata": {},
   "outputs": [],
   "source": [
    "\n",
    "class Main():\n",
    "    def mergeNewValue(self):\n",
    "        \"\"\"合并单位净值(Unit Value) 累计净值(Accumulate Value)\"\"\"\n",
    "\n",
    "        net_value_excel_name = \"20221215-固收净值.xlsx\"\n",
    "        unit_value_sheet = pd.read_excel(Public.readFile(net_value_excel_name), sheet_name=\"单位净值\")\n",
    "        accu_value_sheet = pd.read_excel(Public.readFile(net_value_excel_name), sheet_name=\"累计净值\")\n",
    "\n",
    "\n",
    "main_process = Main()\n"
   ]
  },
  {
   "cell_type": "code",
   "execution_count": 3,
   "metadata": {},
   "outputs": [],
   "source": [
    "\n",
    "net_value_excel_name = \"20221215-固收净值.xlsx\"\n",
    "unit_value_sheet = pd.read_excel(Public.readFile(net_value_excel_name), sheet_name=\"单位净值\")\n",
    "accu_value_sheet = pd.read_excel(Public.readFile(net_value_excel_name), sheet_name=\"累计净值\")"
   ]
  },
  {
   "cell_type": "code",
   "execution_count": 4,
   "metadata": {},
   "outputs": [
    {
     "name": "stdout",
     "output_type": "stream",
     "text": [
      "Current Files: ['20221215-固收净值.xlsx']\n"
     ]
    }
   ],
   "source": [
    "tem = Method.mergeSameSheet(file_name=\"固收净值\", sheet_name=\"单位净值\", path=\"Input_Data\", header=[0,1],index_col=[0])\n"
   ]
  },
  {
   "cell_type": "code",
   "execution_count": 9,
   "metadata": {},
   "outputs": [
    {
     "data": {
      "text/html": [
       "<div>\n",
       "<style scoped>\n",
       "    .dataframe tbody tr th:only-of-type {\n",
       "        vertical-align: middle;\n",
       "    }\n",
       "\n",
       "    .dataframe tbody tr th {\n",
       "        vertical-align: top;\n",
       "    }\n",
       "\n",
       "    .dataframe thead tr th {\n",
       "        text-align: left;\n",
       "    }\n",
       "</style>\n",
       "<table border=\"1\" class=\"dataframe\">\n",
       "  <thead>\n",
       "    <tr>\n",
       "      <th>日期</th>\n",
       "      <th>SGD165</th>\n",
       "      <th>SX1181</th>\n",
       "      <th>GW516A</th>\n",
       "      <th>T05480(B级)</th>\n",
       "      <th>GU147A</th>\n",
       "      <th>LP883B</th>\n",
       "      <th>LT563B</th>\n",
       "      <th>T04826(B级)</th>\n",
       "      <th>NB988A</th>\n",
       "      <th>QA116B</th>\n",
       "      <th>...</th>\n",
       "      <th>XC843A</th>\n",
       "      <th>SNE072</th>\n",
       "      <th>SQZ994</th>\n",
       "      <th>SGH608</th>\n",
       "      <th>SS5172</th>\n",
       "      <th>SXM115</th>\n",
       "      <th>SXP967</th>\n",
       "      <th>SXR443</th>\n",
       "      <th>SLW925</th>\n",
       "      <th>SLC349</th>\n",
       "    </tr>\n",
       "    <tr>\n",
       "      <th></th>\n",
       "      <th>星汇产品</th>\n",
       "      <th>美阳产品</th>\n",
       "      <th>纽达可转债</th>\n",
       "      <th>博益安盈多策略56号B</th>\n",
       "      <th>中量投精合8号</th>\n",
       "      <th>辰钰炎丰1号B类</th>\n",
       "      <th>稳博金选500指数增强6号B</th>\n",
       "      <th>博益安盈精选1号B</th>\n",
       "      <th>鑫然6号A</th>\n",
       "      <th>睿亿投资稳健增长1号B</th>\n",
       "      <th>...</th>\n",
       "      <th>大岩市场中性6号A</th>\n",
       "      <th>国恩中证1000指数增强1号</th>\n",
       "      <th>翰荣中证500指数增强一号</th>\n",
       "      <th>歆享资产富诚六期</th>\n",
       "      <th>鋆杉1号</th>\n",
       "      <th>杉树瑞升7号</th>\n",
       "      <th>前海锐意锐金1期</th>\n",
       "      <th>概率金选中性1号</th>\n",
       "      <th>简雍指数增强一号</th>\n",
       "      <th>弘源中证500指数先锋</th>\n",
       "    </tr>\n",
       "  </thead>\n",
       "  <tbody>\n",
       "    <tr>\n",
       "      <th>2022-12-13</th>\n",
       "      <td>NaN</td>\n",
       "      <td>1.6</td>\n",
       "      <td>1.9367</td>\n",
       "      <td>1.2867</td>\n",
       "      <td>1.1592</td>\n",
       "      <td>1.0856</td>\n",
       "      <td>1.289</td>\n",
       "      <td>1.365</td>\n",
       "      <td>1.044</td>\n",
       "      <td>0.9658</td>\n",
       "      <td>...</td>\n",
       "      <td>1.0047</td>\n",
       "      <td>1.642</td>\n",
       "      <td>1.0329</td>\n",
       "      <td>33535881.85</td>\n",
       "      <td>NaN</td>\n",
       "      <td>NaN</td>\n",
       "      <td>NaN</td>\n",
       "      <td>0.999</td>\n",
       "      <td>NaN</td>\n",
       "      <td>1.4955</td>\n",
       "    </tr>\n",
       "  </tbody>\n",
       "</table>\n",
       "<p>1 rows × 153 columns</p>\n",
       "</div>"
      ],
      "text/plain": [
       "日期         SGD165 SX1181  GW516A  T05480(B级)  GU147A   LP883B         LT563B  \\\n",
       "             星汇产品   美阳产品   纽达可转债 博益安盈多策略56号B 中量投精合8号 辰钰炎丰1号B类 稳博金选500指数增强6号B   \n",
       "2022-12-13    NaN    1.6  1.9367      1.2867  1.1592   1.0856          1.289   \n",
       "\n",
       "日期         T04826(B级) NB988A      QA116B  ...    XC843A         SNE072  \\\n",
       "            博益安盈精选1号B  鑫然6号A 睿亿投资稳健增长1号B  ... 大岩市场中性6号A 国恩中证1000指数增强1号   \n",
       "2022-12-13      1.365  1.044      0.9658  ...    1.0047          1.642   \n",
       "\n",
       "日期                SQZ994       SGH608  SS5172  SXM115   SXP967   SXR443  \\\n",
       "           翰荣中证500指数增强一号     歆享资产富诚六期     鋆杉1号 杉树瑞升7号 前海锐意锐金1期 概率金选中性1号   \n",
       "2022-12-13        1.0329  33535881.85      NaN    NaN      NaN    0.999   \n",
       "\n",
       "日期           SLW925      SLC349  \n",
       "           简雍指数增强一号 弘源中证500指数先锋  \n",
       "2022-12-13      NaN      1.4955  \n",
       "\n",
       "[1 rows x 153 columns]"
      ]
     },
     "execution_count": 9,
     "metadata": {},
     "output_type": "execute_result"
    }
   ],
   "source": []
  }
 ],
 "metadata": {
  "kernelspec": {
   "display_name": "Python 3",
   "language": "python",
   "name": "python3"
  },
  "language_info": {
   "codemirror_mode": {
    "name": "ipython",
    "version": 3
   },
   "file_extension": ".py",
   "mimetype": "text/x-python",
   "name": "python",
   "nbconvert_exporter": "python",
   "pygments_lexer": "ipython3",
   "version": "3.9.7"
  },
  "orig_nbformat": 4,
  "vscode": {
   "interpreter": {
    "hash": "aee8b7b246df8f9039afb4144a1f6fd8d2ca17a180786b69acc140d282b71a49"
   }
  }
 },
 "nbformat": 4,
 "nbformat_minor": 2
}
